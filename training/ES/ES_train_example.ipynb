{
 "cells": [
  {
   "cell_type": "code",
   "execution_count": 9,
   "metadata": {},
   "outputs": [],
   "source": [
    "import argparse\n",
    "import sys\n",
    "\n",
    "import numpy as np\n",
    "import pykep as pk\n",
    "\n",
    "from space_navigator.api import MAX_FUEL_CONSUMPTION\n",
    "from space_navigator.api import Environment\n",
    "from space_navigator.models.ES import EvolutionStrategies\n",
    "from space_navigator.utils import read_environment\n",
    "from space_navigator.models.ES import PytorchES\n",
    "\n",
    "import torch\n",
    "import torch.nn as nn\n",
    "import torch.nn.functional as F\n",
    "from torch.autograd import Variable\n",
    "\n",
    "import matplotlib.pyplot as plt\n",
    "%matplotlib inline  "
   ]
  },
  {
   "cell_type": "code",
   "execution_count": 10,
   "metadata": {
    "collapsed": true
   },
   "outputs": [],
   "source": [
    "SIMULATION_STEP = 0.0001\n",
    "ACTION_SIZE = 4"
   ]
  },
  {
   "cell_type": "code",
   "execution_count": 11,
   "metadata": {
    "collapsed": true
   },
   "outputs": [],
   "source": [
    "iterations = 3\n",
    "population_size = 10\n",
    "n_actions = 1\n",
    "learning_rate, decay, sigma_coef  = 0.1, 0.99, 0.5\n",
    "\n",
    "step = SIMULATION_STEP\n",
    "table_path = \"ES_tmp_action_table.csv\""
   ]
  },
  {
   "cell_type": "code",
   "execution_count": null,
   "metadata": {
    "collapsed": true
   },
   "outputs": [],
   "source": []
  },
  {
   "cell_type": "code",
   "execution_count": 12,
   "metadata": {
    "collapsed": true
   },
   "outputs": [],
   "source": [
    "# path to environment\n",
    "env_path = \"/home/dsdubov/satellite/satellite-collision-avoidance/data/environments/collision.env\"\n",
    "env = read_environment(env_path)"
   ]
  },
  {
   "cell_type": "code",
   "execution_count": 13,
   "metadata": {
    "collapsed": true
   },
   "outputs": [],
   "source": [
    "# weights_shape = (n_actions, ACTION_SIZE)\n",
    "# sigma_table = np.full(weights_shape, sigma_coef)\n",
    "# sigma_table[:, -1] = step\n",
    "# es = EvolutionStrategies(env, step, weights_shape,\n",
    "#     population_size=population_size, sigma=sigma_table, learning_rate=learning_rate, decay=decay)\n",
    "# es.train(iterations, print_out=print_out, show_progress=show_progress)"
   ]
  },
  {
   "cell_type": "code",
   "execution_count": 14,
   "metadata": {
    "collapsed": true
   },
   "outputs": [],
   "source": [
    "# from space_navigator.agent import PytorchAgent"
   ]
  },
  {
   "cell_type": "code",
   "execution_count": 15,
   "metadata": {},
   "outputs": [],
   "source": [
    "print_out = False\n",
    "show_progress = True\n",
    "\n",
    "num_inputs = env.get_numpy_state().size\n",
    "num_outputs = ACTION_SIZE * 1\n",
    "es = PytorchES(env, SIMULATION_STEP, num_inputs, num_outputs, sigma_coef)"
   ]
  },
  {
   "cell_type": "code",
   "execution_count": 16,
   "metadata": {},
   "outputs": [
    {
     "name": "stderr",
     "output_type": "stream",
     "text": [
      "100%|██████████| 10/10 [00:00<00:00, 752.25it/s]\n",
      "100%|██████████| 10/10 [00:00<00:00, 815.22it/s]"
     ]
    },
    {
     "name": "stdout",
     "output_type": "stream",
     "text": [
      "CURRR R: 0.0\n",
      "CURRR R: -1.0\n",
      "CURRR R: -2.0\n",
      "CURRR R: -3.0\n",
      "CURRR R: -4.0\n",
      "CURRR R: -5.0\n",
      "CURRR R: -6.0\n",
      "CURRR R: -7.0\n",
      "CURRR R: -8.0\n",
      "CURRR R: -9.0\n",
      "CURRR R: 0.0\n",
      "CURRR R: -1.0\n",
      "CURRR R: -2.0\n",
      "CURRR R: -3.0\n",
      "CURRR R: -4.0\n",
      "CURRR R: -5.0\n",
      "CURRR R: -6.0\n",
      "CURRR R: -7.0\n",
      "CURRR R: -8.0\n",
      "CURRR R: -9.0\n"
     ]
    },
    {
     "name": "stderr",
     "output_type": "stream",
     "text": [
      "\n"
     ]
    }
   ],
   "source": [
    "es.train(2, print_out=print_out)"
   ]
  },
  {
   "cell_type": "code",
   "execution_count": null,
   "metadata": {},
   "outputs": [],
   "source": [
    "env.state"
   ]
  },
  {
   "cell_type": "code",
   "execution_count": null,
   "metadata": {},
   "outputs": [],
   "source": [
    "env.get_numpy_state()"
   ]
  },
  {
   "cell_type": "code",
   "execution_count": 12,
   "metadata": {
    "collapsed": true
   },
   "outputs": [],
   "source": []
  },
  {
   "cell_type": "code",
   "execution_count": 13,
   "metadata": {
    "collapsed": true
   },
   "outputs": [],
   "source": [
    "# agent = PytorchAgent(num_inputs=num_inputs, num_outputs=num_outputs)\n",
    "# state = env.get_numpy_state()\n",
    "# inputs = Variable(torch.FloatTensor(state.flatten()))\n",
    "# inputs = Variable(torch.FloatTensor(state)).view(-1, num_inputs)\n",
    "# action = agent.forward(state)\n",
    "# agent.get_action(state)"
   ]
  },
  {
   "cell_type": "code",
   "execution_count": 3,
   "metadata": {
    "collapsed": true
   },
   "outputs": [],
   "source": [
    "# for (k, v) in agent.es_params():\n",
    "#     eps = np.random.normal(0, 1, v.size())\n",
    "#     v += torch.from_numpy(sigma_coef * eps).float()\n",
    "# list(agent.parameters())"
   ]
  }
 ],
 "metadata": {
  "kernelspec": {
   "display_name": "Python 3",
   "language": "python",
   "name": "python3"
  },
  "language_info": {
   "codemirror_mode": {
    "name": "ipython",
    "version": 3
   },
   "file_extension": ".py",
   "mimetype": "text/x-python",
   "name": "python",
   "nbconvert_exporter": "python",
   "pygments_lexer": "ipython3",
   "version": "3.6.3"
  }
 },
 "nbformat": 4,
 "nbformat_minor": 2
}
